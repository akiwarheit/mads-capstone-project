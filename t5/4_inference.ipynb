{
 "cells": [
  {
   "cell_type": "code",
   "execution_count": 2,
   "metadata": {},
   "outputs": [
    {
     "name": "stderr",
     "output_type": "stream",
     "text": [
      "Special tokens have been added in the vocabulary, make sure the associated word embeddings are fine-tuned or trained.\n"
     ]
    }
   ],
   "source": [
    "from transformers import T5Tokenizer, T5ForConditionalGeneration\n",
    "\n",
    "model = T5ForConditionalGeneration.from_pretrained('../models/t5')\n",
    "tokenizer = T5Tokenizer.from_pretrained('../models/t5')\n",
    "\n",
    "def generate_answer(question):\n",
    "    inputs = tokenizer.encode(\"answer: \" + question, return_tensors=\"pt\", max_length=512, truncation=True)\n",
    "    outputs = model.generate(inputs, max_length=512, num_beams=4, early_stopping=True)\n",
    "    answer = tokenizer.decode(outputs[0], skip_special_tokens=True)\n",
    "    return answer\n"
   ]
  },
  {
   "cell_type": "code",
   "execution_count": 3,
   "metadata": {},
   "outputs": [
    {
     "name": "stdout",
     "output_type": "stream",
     "text": [
      "Initial Question: Can you tell me about the property at 303 Birch St?\n",
      "Answer: The property at 303 Birch St has 3 bedrooms, 2 bathrooms, and features Pool;Garden.\n",
      "\n",
      "Follow-up Question: Does it have a garden or a pool?\n",
      "Answer: 330 Elmwood Blvd has a garden or a pool.\n",
      "\n",
      "Initial Question: I'm looking for a house in San Diego. What can you find for me?\n",
      "Answer: 200 Elmwood Blvd is a property in San Diego.\n",
      "\n",
      "Follow-up Question: Are there any properties with at least 3 bedrooms and 2 bathrooms?\n",
      "Answer: 280 Elmwood Blvd is a property with at least 3 bedrooms and 2 bathrooms.\n",
      "\n",
      "Initial Question: What are the price ranges for homes in Los Angeles?\n",
      "Answer: Properties in Los Angeles range from $750000 to $950000.\n",
      "\n",
      "Follow-up Question: Can you narrow it down to homes with a garage?\n",
      "Answer: 200 Elmwood Blvd has a garage.\n",
      "\n",
      "Initial Question: Which properties have both a pool and a garage?\n",
      "Answer: 280 Elmwood Blvd has a pool and a garage.\n",
      "\n",
      "Follow-up Question: Are any of these located in San Francisco?\n",
      "Answer: no\n",
      "\n",
      "Initial Question: Show me some properties with more than 4 bedrooms.\n",
      "Answer: 280 Elmwood Blvd is a property with more than 4 bedrooms.\n",
      "\n",
      "Follow-up Question: How many of these are in Los Angeles?\n",
      "Answer: 100 Elmwood St is in Los Angeles.\n",
      "\n",
      "Initial Question: What are the features of the property at 606 Spruce St?\n",
      "Answer: The property at 606 Spruce St has 3 bedrooms, 2 bathrooms, and features Pool;Garden.\n",
      "\n",
      "Follow-up Question: Is it within a $500,000 to $600,000 price range?\n",
      "Answer: 280 Elmwood Blvd is within the price range of $500,000 to $600000.\n",
      "\n",
      "Initial Question: I'm interested in homes with a garden. What are my options?\n",
      "Answer: 200 Elmwood Blvd has a garden.\n",
      "\n",
      "Follow-up Question: Do any of these have at least 2 bathrooms?\n",
      "Answer: 230 Birchwood St has at least 2 bathrooms.\n",
      "\n",
      "Initial Question: List properties in San Francisco that are below $700,000.\n",
      "Answer: 200 Elmwood Blvd is below $700000.\n",
      "\n",
      "Follow-up Question: How many bedrooms do these properties have?\n",
      "Answer: 200 Elmwood Blvd has 3 bedrooms, 2 bathrooms, and features Pool;Garden.\n",
      "\n",
      "Initial Question: Can you find properties in San Diego with a pool?\n",
      "Answer: 200 Elmwood Blvd has a pool.\n",
      "\n",
      "Follow-up Question: Do any of them have more than 3 bedrooms?\n",
      "Answer: 280 Elmwood Blvd has more than 3 bedrooms.\n",
      "\n",
      "Initial Question: What is the average price of properties in San Diego?\n",
      "Answer: Properties in San Diego range from $450000 to $650000.\n",
      "\n",
      "Follow-up Question: How does this compare to properties with a pool?\n",
      "Answer: The property with a pool has 3 bedrooms, 2 bathrooms, and features Pool.\n",
      "\n"
     ]
    }
   ],
   "source": [
    "def generate_answer(question):\n",
    "    inputs = tokenizer.encode(\"answer: \" + question, return_tensors=\"pt\", max_length=512, truncation=True)\n",
    "    outputs = model.generate(inputs, max_length=512, num_beams=4, early_stopping=True)\n",
    "    answer = tokenizer.decode(outputs[0], skip_special_tokens=True)\n",
    "    return answer\n",
    "\n",
    "questions_with_context = [\n",
    "    (\"Can you tell me about the property at 303 Birch St?\", \"Does it have a garden or a pool?\"),\n",
    "    (\"I'm looking for a house in San Diego. What can you find for me?\", \"Are there any properties with at least 3 bedrooms and 2 bathrooms?\"),\n",
    "    (\"What are the price ranges for homes in Los Angeles?\", \"Can you narrow it down to homes with a garage?\"),\n",
    "    (\"Which properties have both a pool and a garage?\", \"Are any of these located in San Francisco?\"),\n",
    "    (\"Show me some properties with more than 4 bedrooms.\", \"How many of these are in Los Angeles?\"),\n",
    "    (\"What are the features of the property at 606 Spruce St?\", \"Is it within a $500,000 to $600,000 price range?\"),\n",
    "    (\"I'm interested in homes with a garden. What are my options?\", \"Do any of these have at least 2 bathrooms?\"),\n",
    "    (\"List properties in San Francisco that are below $700,000.\", \"How many bedrooms do these properties have?\"),\n",
    "    (\"Can you find properties in San Diego with a pool?\", \"Do any of them have more than 3 bedrooms?\"),\n",
    "    (\"What is the average price of properties in San Diego?\", \"How does this compare to properties with a pool?\")\n",
    "]\n",
    "\n",
    "for initial_question, follow_up_question in questions_with_context:\n",
    "    print(f\"Initial Question: {initial_question}\")\n",
    "    print(f\"Answer: {generate_answer(initial_question)}\\n\")\n",
    "    print(f\"Follow-up Question: {follow_up_question}\")\n",
    "    print(f\"Answer: {generate_answer(follow_up_question)}\\n\")\n"
   ]
  }
 ],
 "metadata": {
  "kernelspec": {
   "display_name": ".venv",
   "language": "python",
   "name": "python3"
  },
  "language_info": {
   "codemirror_mode": {
    "name": "ipython",
    "version": 3
   },
   "file_extension": ".py",
   "mimetype": "text/x-python",
   "name": "python",
   "nbconvert_exporter": "python",
   "pygments_lexer": "ipython3",
   "version": "3.11.9"
  }
 },
 "nbformat": 4,
 "nbformat_minor": 2
}
