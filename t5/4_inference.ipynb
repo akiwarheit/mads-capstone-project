{
 "cells": [
  {
   "cell_type": "code",
   "execution_count": 1,
   "metadata": {},
   "outputs": [
    {
     "name": "stderr",
     "output_type": "stream",
     "text": [
      "Special tokens have been added in the vocabulary, make sure the associated word embeddings are fine-tuned or trained.\n"
     ]
    }
   ],
   "source": [
    "from transformers import T5Tokenizer, T5ForConditionalGeneration\n",
    "\n",
    "model = T5ForConditionalGeneration.from_pretrained('../models/t5')\n",
    "tokenizer = T5Tokenizer.from_pretrained('../models/t5')\n",
    "\n",
    "def generate_answer(question):\n",
    "    inputs = tokenizer.encode(\"answer: \" + question, return_tensors=\"pt\", max_length=512, truncation=True)\n",
    "    outputs = model.generate(inputs, max_length=512, num_beams=4, early_stopping=True)\n",
    "    answer = tokenizer.decode(outputs[0], skip_special_tokens=True)\n",
    "    return answer\n"
   ]
  },
  {
   "cell_type": "code",
   "execution_count": 2,
   "metadata": {},
   "outputs": [
    {
     "name": "stdout",
     "output_type": "stream",
     "text": [
      "Question: What is the median home price in Palm Bay, FL?\n",
      "Answer: The median home price in Palm Bay, FL is $325000.\n",
      "\n",
      "Question: How much is the median home price in Gloversville, NY?\n",
      "Answer: The median home price in Gloversville, NY is $175000.\n",
      "\n",
      "Question: What is the median home price in Dixon, IL?\n",
      "Answer: The median home price in Dixon, IL is $170000.\n",
      "\n",
      "Question: Can you tell me the median home price for Charleston, IL?\n",
      "Answer: The median home price for Charleston, IL is $170000.\n",
      "\n",
      "Question: What is the median home price in Glenwood Springs, CO?\n",
      "Answer: The median home price in Glenwood Springs, CO is $365000.\n",
      "\n",
      "Question: How much is the median home price in McMinnville, TN?\n",
      "Answer: The median home price in McMinnville, TN is $250000.\n",
      "\n",
      "Question: What is the median home price in Portland, OR?\n",
      "Answer: The median home price in Portland, OR is $415000.\n",
      "\n",
      "Question: Can you tell me the median home price for Auburn, IN?\n",
      "Answer: The median home price for Auburn, IN is $225000.\n",
      "\n",
      "Question: What is the median home price in Philadelphia, PA?\n",
      "Answer: The median home price in Philadelphia, PA is $225000.\n",
      "\n",
      "Question: How much is the median home price in Iowa City, IA?\n",
      "Answer: The median home price in Iowa City, IA is $255000.\n",
      "\n"
     ]
    }
   ],
   "source": [
    "questions = [\n",
    "    \"What is the median home price in Palm Bay, FL?\",\n",
    "    \"How much is the median home price in Gloversville, NY?\",\n",
    "    \"What is the median home price in Dixon, IL?\",\n",
    "    \"Can you tell me the median home price for Charleston, IL?\",\n",
    "    \"What is the median home price in Glenwood Springs, CO?\",\n",
    "    \"How much is the median home price in McMinnville, TN?\",\n",
    "    \"What is the median home price in Portland, OR?\",\n",
    "    \"Can you tell me the median home price for Auburn, IN?\",\n",
    "    \"What is the median home price in Philadelphia, PA?\",\n",
    "    \"How much is the median home price in Iowa City, IA?\"\n",
    "]\n",
    "\n",
    "# Generate and print answers for each question\n",
    "for question in questions:\n",
    "    answer = generate_answer(question)\n",
    "    print(f\"Question: {question}\")\n",
    "    print(f\"Answer: {answer}\\n\")\n"
   ]
  },
  {
   "cell_type": "code",
   "execution_count": 3,
   "metadata": {},
   "outputs": [
    {
     "data": {
      "text/plain": [
       "0"
      ]
     },
     "execution_count": 3,
     "metadata": {},
     "output_type": "execute_result"
    }
   ],
   "source": [
    "import torch\n",
    "import gc\n",
    "\n",
    "torch.cuda.empty_cache()\n",
    "gc.collect()"
   ]
  }
 ],
 "metadata": {
  "kernelspec": {
   "display_name": ".venv",
   "language": "python",
   "name": "python3"
  },
  "language_info": {
   "codemirror_mode": {
    "name": "ipython",
    "version": 3
   },
   "file_extension": ".py",
   "mimetype": "text/x-python",
   "name": "python",
   "nbconvert_exporter": "python",
   "pygments_lexer": "ipython3",
   "version": "3.11.9"
  }
 },
 "nbformat": 4,
 "nbformat_minor": 2
}
