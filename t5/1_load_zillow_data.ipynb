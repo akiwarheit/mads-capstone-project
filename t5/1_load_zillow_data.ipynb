{
 "cells": [
  {
   "cell_type": "markdown",
   "metadata": {},
   "source": [
    "# Load the Zillow Data\n",
    "\n",
    "For some reason I cannot load the Google Drive folders."
   ]
  },
  {
   "cell_type": "code",
   "execution_count": 15,
   "metadata": {},
   "outputs": [
    {
     "name": "stdout",
     "output_type": "stream",
     "text": [
      "[]\n"
     ]
    }
   ],
   "source": [
    "from pydrive2.auth import GoogleAuth\n",
    "from pydrive2.drive import GoogleDrive\n",
    "import pandas as pd\n",
    "import io\n",
    "\n",
    "def authenticate_service_account(json_keyfile_path):\n",
    "    gauth = GoogleAuth()\n",
    "    gauth.settings['client_config_backend'] = 'service'\n",
    "    gauth.settings['service_config'] = {\n",
    "        \"client_json_file_path\": json_keyfile_path,\n",
    "        \"client_user_email\": None  # Set to None for service account\n",
    "    }\n",
    "    \n",
    "    gauth.ServiceAuth()\n",
    "    drive = GoogleDrive(gauth)\n",
    "    return drive\n",
    "\n",
    "def load_csv_files_from_folder(drive, folder_id):\n",
    "    file_list = drive.ListFile({'q': f\"'{folder_id}' in parents and mimeType='text/csv' and trashed=false\"}).GetList()\n",
    "    \n",
    "    dataframes = []\n",
    "    for file in file_list:\n",
    "        print(f'Loading file: {file[\"title\"]}')\n",
    "        file_content = file.GetContentString()\n",
    "        df = pd.read_csv(io.StringIO(file_content))\n",
    "        dataframes.append(df)\n",
    "    \n",
    "    return dataframes\n",
    "\n",
    "\n",
    "json_keyfile_path = 'service_account.json'  \n",
    "drive = authenticate_service_account(json_keyfile_path)\n",
    "folder_id = '1GLHBoTSukbHryHSBUcoHZ848Huq9RkVE'  \n",
    "csv_dataframes = load_csv_files_from_folder(drive, folder_id)\n"
   ]
  },
  {
   "cell_type": "code",
   "execution_count": 14,
   "metadata": {},
   "outputs": [
    {
     "data": {
      "text/plain": [
       "<pydrive2.drive.GoogleDrive at 0x2422f6807d0>"
      ]
     },
     "execution_count": 14,
     "metadata": {},
     "output_type": "execute_result"
    }
   ],
   "source": []
  }
 ],
 "metadata": {
  "kernelspec": {
   "display_name": ".venv",
   "language": "python",
   "name": "python3"
  },
  "language_info": {
   "codemirror_mode": {
    "name": "ipython",
    "version": 3
   },
   "file_extension": ".py",
   "mimetype": "text/x-python",
   "name": "python",
   "nbconvert_exporter": "python",
   "pygments_lexer": "ipython3",
   "version": "3.11.9"
  }
 },
 "nbformat": 4,
 "nbformat_minor": 2
}
