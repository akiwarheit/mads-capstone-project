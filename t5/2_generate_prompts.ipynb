{
 "cells": [
  {
   "cell_type": "markdown",
   "metadata": {},
   "source": [
    "# Generate Question & Answer Pairs\n",
    "\n",
    "The idea is to generate prompts that follow the following format:\n",
    "\n",
    "```\n",
    "[\n",
    "    {\n",
    "        \"question\": \"What are the features of the property at 123 Main St?\",\n",
    "        \"answer\": \"The property at 123 Main St has 3 bedrooms, 2 bathrooms, a pool, and a garage.\"\n",
    "    },\n",
    "    {\n",
    "        \"question\": \"Show me properties with at least 3 bedrooms and 2 bathrooms.\",\n",
    "        \"answer\": \"123 Main St, 456 Oak St, and 789 Pine St are properties with at least 3 bedrooms and 2 bathrooms.\"\n",
    "    }\n",
    "]\n",
    "```"
   ]
  },
  {
   "cell_type": "code",
   "execution_count": 9,
   "metadata": {},
   "outputs": [],
   "source": [
    "DATASET_FILE_PATH = '../data/mocks/zillow_dataset.csv'\n",
    "OUTPUT_FILE_PATH = 'temp/zillow_qa_dataset.json'"
   ]
  },
  {
   "cell_type": "code",
   "execution_count": 16,
   "metadata": {},
   "outputs": [],
   "source": [
    "import pandas as pd\n",
    "\n",
    "zillow_data = pd.read_csv(DATASET_FILE_PATH)\n",
    "\n",
    "def generate_qa_pairs(data):\n",
    "    qa_pairs = []\n",
    "    \n",
    "    for _index, row in data.iterrows():\n",
    "        address = row['Address']\n",
    "        price = row['Price']\n",
    "        bedrooms = row['Bedrooms']\n",
    "        bathrooms = row['Bathrooms']\n",
    "        features = row['Features']\n",
    "        city = row['City']\n",
    "        \n",
    "        questions = [\n",
    "            f\"What are the features of the property at {address}?\",\n",
    "            f\"Show me properties with at least {bedrooms} bedrooms and {bathrooms} bathrooms.\",\n",
    "            f\"What is the price range for properties in {city}?\",\n",
    "            f\"Which properties have a pool and a garden?\",\n",
    "            f\"List properties within ${price-50000} to ${price+50000}.\"\n",
    "        ]\n",
    "        \n",
    "        answers = [\n",
    "            f\"The property at {address} has {bedrooms} bedrooms, {bathrooms} bathrooms, and features {features}.\",\n",
    "            f\"{address} is a property with at least {bedrooms} bedrooms and {bathrooms} bathrooms.\",\n",
    "            f\"Properties in {city} range from ${price-100000} to ${price+100000}.\",\n",
    "            f\"{address} has a pool and a garden.\",\n",
    "            f\"{address} is within the price range of ${price-50000} to ${price+50000}.\"\n",
    "        ]\n",
    "        \n",
    "        for question, answer in zip(questions, answers):\n",
    "            qa_pairs.append({\"question\": question, \"answer\": answer})\n",
    "    \n",
    "    return qa_pairs\n",
    "\n",
    "qa_pairs = generate_qa_pairs(zillow_data)\n",
    "\n",
    "qa_df = pd.DataFrame(qa_pairs)\n",
    "qa_df.to_json(OUTPUT_FILE_PATH, index=False, orient='records')"
   ]
  }
 ],
 "metadata": {
  "kernelspec": {
   "display_name": ".venv",
   "language": "python",
   "name": "python3"
  },
  "language_info": {
   "codemirror_mode": {
    "name": "ipython",
    "version": 3
   },
   "file_extension": ".py",
   "mimetype": "text/x-python",
   "name": "python",
   "nbconvert_exporter": "python",
   "pygments_lexer": "ipython3",
   "version": "3.11.9"
  }
 },
 "nbformat": 4,
 "nbformat_minor": 2
}
