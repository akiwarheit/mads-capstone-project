{
 "cells": [
  {
   "cell_type": "code",
   "execution_count": 5,
   "metadata": {},
   "outputs": [],
   "source": [
    "import pandas as pd\n",
    "\n",
    "df = pd.read_pickle('../data/social_explorer/combined_df.pkl')"
   ]
  },
  {
   "cell_type": "code",
   "execution_count": 6,
   "metadata": {},
   "outputs": [],
   "source": [
    "pd.options.display.max_rows = 4000"
   ]
  },
  {
   "cell_type": "code",
   "execution_count": 11,
   "metadata": {},
   "outputs": [
    {
     "data": {
      "text/plain": [
       "array(['[INST] What are the key terrain characteristics of Teton County? [/INST] Teton County in Montana has the following terrain makeup: 0.702494801% open water, 0.0% perennial ice/snow, 1.392193262% developed open space, 0.293982263% developed low intensity, 0.015479932% developed medium intensity, 0.0031536% developed high intensity, 2.525806457% barren land (rock/sand/clay), 0.030035011% deciduous forest, 10.81043587% evergreen forest, 0.36590861% mixed forest, 9.436679041% shrub/scrub, 36.67872211% grassland/herbaceous, 2.782991663% pasture/hay, 32.94126601% cultivated crops, 1.607517455% woody wetlands, 0.413333907% emergent herbaceous wetlands, 35.72425767% farmland, 1.686175525% houses with lots of land, 0.015479932% suburbia, 0.0031536% big city, 11.20637949% forests, 46.11540115% open fields, 2.020851362% wetlands, 0.702494801% open water, 2.525806457% rock/sand/clay, 0.0% perennial ice/snow. </s>',\n",
       "       '[INST] What are the key terrain characteristics of Medina County? [/INST] Medina County in Ohio has the following terrain makeup: 0.811284378% open water, 0.0% perennial ice/snow, 12.5987305% developed open space, 7.222616072% developed low intensity, 1.950664118% developed medium intensity, 0.485817721% developed high intensity, 0.052902707% barren land (rock/sand/clay), 28.49796563% deciduous forest, 0.759367435% evergreen forest, 0.016758001% mixed forest, 0.273303273% shrub/scrub, 1.002440589% grassland/herbaceous, 17.26361567% pasture/hay, 25.83590796% cultivated crops, 3.208582068% woody wetlands, 0.020043883% emergent herbaceous wetlands, 43.09952363% farmland, 19.82134657% houses with lots of land, 1.950664118% suburbia, 0.485817721% big city, 29.27409107% forests, 1.275743862% open fields, 3.228625951% wetlands, 0.811284378% open water, 0.052902707% rock/sand/clay, 0.0% perennial ice/snow. </s>',\n",
       "       '[INST] What are the key terrain characteristics of Perry County? [/INST] Perry County in Pennsylvania has the following terrain makeup: 0.867911664% open water, 0.0% perennial ice/snow, 5.409075698% developed open space, 1.489492796% developed low intensity, 0.263532385% developed medium intensity, 0.055045929% developed high intensity, 0.019954149% barren land (rock/sand/clay), 61.78824206% deciduous forest, 2.504402111% evergreen forest, 3.628902866% mixed forest, 0.129107724% shrub/scrub, 0.089824948% grassland/herbaceous, 15.97808171% pasture/hay, 7.644315726% cultivated crops, 0.130859186% woody wetlands, 0.001251044% emergent herbaceous wetlands, 23.62239744% farmland, 6.898568494% houses with lots of land, 0.263532385% suburbia, 0.055045929% big city, 67.92154704% forests, 0.218932672% open fields, 0.13211023% wetlands, 0.867911664% open water, 0.019954149% rock/sand/clay, 0.0% perennial ice/snow. </s>',\n",
       "       '[INST] What are the key terrain characteristics of Morgan County? [/INST] Morgan County in Georgia has the following terrain makeup: 1.98154659% open water, 0.0% perennial ice/snow, 4.869007443% developed open space, 1.042315848% developed low intensity, 0.22312242% developed medium intensity, 0.076431923% developed high intensity, 0.886316334% barren land (rock/sand/clay), 27.80064203% deciduous forest, 16.92477139% evergreen forest, 2.112950703% mixed forest, 3.353499602% shrub/scrub, 11.76963419% grassland/herbaceous, 23.25950794% pasture/hay, 0.326795464% cultivated crops, 5.345923043% woody wetlands, 0.02753509% emergent herbaceous wetlands, 23.5863034% farmland, 5.911323291% houses with lots of land, 0.22312242% suburbia, 0.076431923% big city, 46.83836412% forests, 15.12313379% open fields, 5.373458133% wetlands, 1.98154659% open water, 0.886316334% rock/sand/clay, 0.0% perennial ice/snow. </s>',\n",
       "       '[INST] What are the key terrain characteristics of Chase County? [/INST] Chase County in Nebraska has the following terrain makeup: 0.242256747% open water, 0.0% perennial ice/snow, 2.607405847% developed open space, 0.155800088% developed low intensity, 0.032871341% developed medium intensity, 0.011344291% developed high intensity, 0.046345106% barren land (rock/sand/clay), 0.109416265% deciduous forest, 0.00050333% evergreen forest, 0.000387177% mixed forest, 0.02559241% shrub/scrub, 44.70885633% grassland/herbaceous, 0.457178787% pasture/hay, 51.11764494% cultivated crops, 0.395695055% woody wetlands, 0.088702287% emergent herbaceous wetlands, 51.57482373% farmland, 2.763205935% houses with lots of land, 0.032871341% suburbia, 0.011344291% big city, 0.110306772% forests, 44.73444874% open fields, 0.484397342% wetlands, 0.242256747% open water, 0.046345106% rock/sand/clay, 0.0% perennial ice/snow. </s>'],\n",
       "      dtype=object)"
      ]
     },
     "execution_count": 11,
     "metadata": {},
     "output_type": "execute_result"
    }
   ],
   "source": [
    "df.sample(5)['Combined'].values"
   ]
  },
  {
   "cell_type": "code",
   "execution_count": 13,
   "metadata": {},
   "outputs": [
    {
     "name": "stdout",
     "output_type": "stream",
     "text": [
      "                                              prompt  \\\n",
      "0  What are the key terrain characteristics of Do...   \n",
      "1  What are the key terrain characteristics of Fo...   \n",
      "2  What are the key terrain characteristics of Ma...   \n",
      "3  What are the key terrain characteristics of Tr...   \n",
      "4  What are the key terrain characteristics of Wa...   \n",
      "\n",
      "                                              answer  \n",
      "0  Douglas County in Illinois has the following t...  \n",
      "1  Ford County in Illinois has the following terr...  \n",
      "2  Marshall County in Illinois has the following ...  \n",
      "3  Traverse County in Minnesota has the following...  \n",
      "4  Watonwan County in Minnesota has the following...  \n"
     ]
    }
   ],
   "source": [
    "import re\n",
    "\n",
    "def split_combined(text):\n",
    "    pattern = r\"\\[INST\\](.*?)\\[/INST\\](.*)\"\n",
    "    match = re.match(pattern, text, re.DOTALL)\n",
    "    \n",
    "    if match:\n",
    "        prompt = match.group(1).strip()\n",
    "        answer = match.group(2).strip()\n",
    "        return prompt, answer\n",
    "    else:\n",
    "        return None, None\n",
    "\n",
    "df[['prompt', 'answer']] = df['Combined'].apply(lambda x: pd.Series(split_combined(x)))\n",
    "\n",
    "print(df[['prompt', 'answer']].head())\n"
   ]
  },
  {
   "cell_type": "code",
   "execution_count": 14,
   "metadata": {},
   "outputs": [
    {
     "data": {
      "text/html": [
       "<div>\n",
       "<style scoped>\n",
       "    .dataframe tbody tr th:only-of-type {\n",
       "        vertical-align: middle;\n",
       "    }\n",
       "\n",
       "    .dataframe tbody tr th {\n",
       "        vertical-align: top;\n",
       "    }\n",
       "\n",
       "    .dataframe thead th {\n",
       "        text-align: right;\n",
       "    }\n",
       "</style>\n",
       "<table border=\"1\" class=\"dataframe\">\n",
       "  <thead>\n",
       "    <tr style=\"text-align: right;\">\n",
       "      <th></th>\n",
       "      <th>dialog</th>\n",
       "    </tr>\n",
       "  </thead>\n",
       "  <tbody>\n",
       "    <tr>\n",
       "      <th>0</th>\n",
       "      <td>{'dialog': [{'content': 'What are the key terr...</td>\n",
       "    </tr>\n",
       "    <tr>\n",
       "      <th>1</th>\n",
       "      <td>{'dialog': [{'content': 'What are the key terr...</td>\n",
       "    </tr>\n",
       "    <tr>\n",
       "      <th>2</th>\n",
       "      <td>{'dialog': [{'content': 'What are the key terr...</td>\n",
       "    </tr>\n",
       "    <tr>\n",
       "      <th>3</th>\n",
       "      <td>{'dialog': [{'content': 'What are the key terr...</td>\n",
       "    </tr>\n",
       "    <tr>\n",
       "      <th>4</th>\n",
       "      <td>{'dialog': [{'content': 'What are the key terr...</td>\n",
       "    </tr>\n",
       "  </tbody>\n",
       "</table>\n",
       "</div>"
      ],
      "text/plain": [
       "                                              dialog\n",
       "0  {'dialog': [{'content': 'What are the key terr...\n",
       "1  {'dialog': [{'content': 'What are the key terr...\n",
       "2  {'dialog': [{'content': 'What are the key terr...\n",
       "3  {'dialog': [{'content': 'What are the key terr...\n",
       "4  {'dialog': [{'content': 'What are the key terr..."
      ]
     },
     "execution_count": 14,
     "metadata": {},
     "output_type": "execute_result"
    }
   ],
   "source": [
    "def create_dialog_row(row):\n",
    "    return {\n",
    "        \"dialog\": [\n",
    "            {\"content\": row['prompt'], \"role\": \"user\"},\n",
    "            {\"content\": row['answer'], \"role\": \"assistant\"}\n",
    "        ]\n",
    "    }\n",
    "\n",
    "df['dialog'] = df.apply(create_dialog_row, axis=1)\n",
    "\n",
    "df = df.drop(columns=['Combined', 'prompt', 'answer'])\n",
    "\n",
    "df.head()"
   ]
  },
  {
   "cell_type": "code",
   "execution_count": 18,
   "metadata": {},
   "outputs": [],
   "source": [
    "df['dialog'].to_json('../data/social_explorer/formatted_dialog.jsonl', index=False, orient='records', lines=True)"
   ]
  },
  {
   "cell_type": "code",
   "execution_count": 19,
   "metadata": {},
   "outputs": [
    {
     "name": "stdout",
     "output_type": "stream",
     "text": [
      "sagemaker.config INFO - Not applying SDK defaults from location: /etc/xdg/sagemaker/config.yaml\n",
      "sagemaker.config INFO - Not applying SDK defaults from location: /home/kevin/.config/sagemaker/config.yaml\n"
     ]
    },
    {
     "data": {
      "text/plain": [
       "'s3://sagemaker-us-east-1-702497914099/data/formatted_dialog.jsonl'"
      ]
     },
     "execution_count": 19,
     "metadata": {},
     "output_type": "execute_result"
    }
   ],
   "source": [
    "import sagemaker\n",
    "\n",
    "sagemaker_session = sagemaker.Session()\n",
    "\n",
    "sagemaker_session.upload_data('../data/social_explorer/formatted_dialog.jsonl')"
   ]
  }
 ],
 "metadata": {
  "kernelspec": {
   "display_name": ".venv",
   "language": "python",
   "name": "python3"
  },
  "language_info": {
   "codemirror_mode": {
    "name": "ipython",
    "version": 3
   },
   "file_extension": ".py",
   "mimetype": "text/x-python",
   "name": "python",
   "nbconvert_exporter": "python",
   "pygments_lexer": "ipython3",
   "version": "3.10.12"
  }
 },
 "nbformat": 4,
 "nbformat_minor": 2
}
