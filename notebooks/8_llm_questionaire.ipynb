{
 "cells": [
  {
   "cell_type": "code",
   "id": "initial_id",
   "metadata": {
    "collapsed": true,
    "ExecuteTime": {
     "end_time": "2024-06-22T06:32:45.620563Z",
     "start_time": "2024-06-22T06:32:20.123709Z"
    }
   },
   "source": [
    "from transformers import GPT2LMHeadModel, GPT2Tokenizer\n",
    "import torch\n",
    "\n",
    "model_name = 'gpt2'\n",
    "model = GPT2LMHeadModel.from_pretrained(model_name)\n",
    "tokenizer = GPT2Tokenizer.from_pretrained(model_name)\n",
    "\n",
    "def generate_response(prompt, output_length=100):\n",
    "    inputs = tokenizer(prompt, return_tensors='pt')\n",
    "    input_ids = inputs['input_ids']\n",
    "    attention_mask = inputs['attention_mask']\n",
    "    \n",
    "    max_length = input_ids.shape[1] + output_length\n",
    "    outputs = model.generate(\n",
    "        input_ids, \n",
    "        attention_mask=attention_mask, \n",
    "        max_length=max_length, \n",
    "        pad_token_id=tokenizer.eos_token_id,\n",
    "        num_return_sequences=1\n",
    "    )\n",
    "    response = tokenizer.decode(outputs[0], skip_special_tokens=True)\n",
    "    return response\n",
    "\n",
    "questions = [\n",
    "    \"What type of terrain do you prefer to live in (e.g., forests, open water, developed areas)?\",\n",
    "\"Are you looking for a county with a higher or lower population density (e.g., densely populated urban areas or more sparsely populated rural areas)?\",\n",
    "\"What is your preferred demographic makeup of the community you live in (e.g., predominantly White, African American, Hispanic)?\",\n",
    "\"Is it important for you to live in an area with a lower or higher crime rate (e.g., low crime suburban areas or higher crime urban areas)?\",\n",
    "\"What is your preferred quality of public schools (e.g., high-ranking elementary schools, average middle schools, lower-ranking high schools)?\",\n",
    "\"What is your budget range for housing, specifically in terms of fair market rent for different bedroom sizes (e.g., $700 for one bedroom, $830 for two bedrooms, $1047 for three bedrooms, $1425 for four bedrooms)?\",\n",
    "\"Do you need access to agricultural land (e.g., areas with significant pasture/hay or cultivated crops)?\",\n",
    "\"How important is proximity to natural features (e.g., areas with significant deciduous or evergreen forests, or regions with extensive woody or herbaceous wetlands)?\",\n",
    "\"Are you looking for an area with more developed open space or one with more natural terrain (e.g., shrub/scrub, grassland/herbaceous)?\",\n",
    "\"What median family income range are you comfortable with in the community you live in (e.g., communities with a median family income around $65,700)?\"\n",
    "]\n",
    "\n",
    "def gather_profile():\n",
    "    profile = {}\n",
    "    for question in questions:\n",
    "        print(question)\n",
    "        answer = input()\n",
    "        profile[question] = answer\n",
    "    return profile\n",
    "\n",
    "def make_recommendation(profile):\n",
    "    profile_str = '\\n'.join([f\"{k}: {v}\" for k, v in profile.items()])\n",
    "    prompt = (\n",
    "        f\"Based on this profile:\\n{profile_str}\\n\"\n",
    "        \"Considering the user's preferences, which county in the United States would be the best to live in?\\n\\n\"\n",
    "        \"Provide your recommendation in a single sentence.\"\n",
    "    )\n",
    "    recommendation = generate_response(prompt)\n",
    "    return recommendation\n",
    "\n",
    "profile = gather_profile()\n",
    "recommendation = make_recommendation(profile)\n",
    "print(\"\\nRecommendation:\", recommendation)\n"
   ],
   "outputs": [
    {
     "name": "stdout",
     "output_type": "stream",
     "text": [
      "What is your name?\n",
      "What is your age?\n",
      "What are your main considerations when choosing a place to live? (e.g., cost of living, schools, job opportunities)\n",
      "Do you prefer urban, suburban, or rural areas?\n",
      "What climate do you prefer? (e.g., warm, temperate, cold)\n",
      "Any specific hobbies or interests that should be considered? (e.g., hiking, cultural activities)\n",
      "\n",
      "Recommendation: Based on this profile:\n",
      "What is your name?: hsiao\n",
      "What is your age?: 30\n",
      "What are your main considerations when choosing a place to live? (e.g., cost of living, schools, job opportunities): cost of living and schools\n",
      "Do you prefer urban, suburban, or rural areas?: rural\n",
      "What climate do you prefer? (e.g., warm, temperate, cold): warm\n",
      "Any specific hobbies or interests that should be considered? (e.g., hiking, cultural activities): rock climbing\n",
      "Considering the user's preferences for cost of living, schools, area type, climate, and hobbies, which county in the United States would be the best to live in?\n",
      "\n",
      "Provide your recommendation in a single sentence.\n",
      "\n",
      "What is your favorite place to live in the United States?: San Francisco\n",
      "\n",
      "What is your favorite place to live in the United States?: San Francisco\n",
      "\n",
      "What is your favorite place to live in the United States?: San Francisco\n",
      "\n",
      "What is your favorite place to live in the United States?: San Francisco\n",
      "\n",
      "What is your favorite place to live in the United States?: San Francisco\n",
      "\n",
      "What is your favorite place to live in the United States?: San Francisco\n",
      "\n",
      "What is\n"
     ]
    }
   ],
   "execution_count": 8
  },
  {
   "metadata": {},
   "cell_type": "markdown",
   "source": "",
   "id": "ca3cf0916aade08b"
  },
  {
   "metadata": {},
   "cell_type": "code",
   "outputs": [],
   "execution_count": null,
   "source": "",
   "id": "952dc0d9275742a7"
  }
 ],
 "metadata": {
  "kernelspec": {
   "display_name": "Python 3",
   "language": "python",
   "name": "python3"
  },
  "language_info": {
   "codemirror_mode": {
    "name": "ipython",
    "version": 2
   },
   "file_extension": ".py",
   "mimetype": "text/x-python",
   "name": "python",
   "nbconvert_exporter": "python",
   "pygments_lexer": "ipython2",
   "version": "2.7.6"
  }
 },
 "nbformat": 4,
 "nbformat_minor": 5
}
