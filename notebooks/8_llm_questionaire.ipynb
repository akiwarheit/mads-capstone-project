{
 "cells": [
  {
   "cell_type": "code",
   "id": "initial_id",
   "metadata": {
    "collapsed": true,
    "ExecuteTime": {
     "end_time": "2024-06-22T06:32:45.620563Z",
     "start_time": "2024-06-22T06:32:20.123709Z"
    }
   },
   "source": [
    "from transformers import GPT2LMHeadModel, GPT2Tokenizer\n",
    "import torch\n",
    "\n",
    "# Initialize GPT-2 model and tokenizer\n",
    "model_name = 'gpt2'\n",
    "model = GPT2LMHeadModel.from_pretrained(model_name)\n",
    "tokenizer = GPT2Tokenizer.from_pretrained(model_name)\n",
    "\n",
    "# Function to generate a response from the model\n",
    "def generate_response(prompt, output_length=100):\n",
    "    inputs = tokenizer(prompt, return_tensors='pt')\n",
    "    input_ids = inputs['input_ids']\n",
    "    attention_mask = inputs['attention_mask']\n",
    "    \n",
    "    # Set max_length to be the sum of the input length and the desired output length\n",
    "    max_length = input_ids.shape[1] + output_length\n",
    "\n",
    "    # Generate response with attention mask and pad token id set\n",
    "    outputs = model.generate(\n",
    "        input_ids, \n",
    "        attention_mask=attention_mask, \n",
    "        max_length=max_length, \n",
    "        pad_token_id=tokenizer.eos_token_id,\n",
    "        num_return_sequences=1\n",
    "    )\n",
    "    response = tokenizer.decode(outputs[0], skip_special_tokens=True)\n",
    "    return response\n",
    "\n",
    "# Predefined questions\n",
    "questions = [\n",
    "    \"What is your name?\",\n",
    "    \"What is your age?\",\n",
    "    \"What are your main considerations when choosing a place to live? (e.g., cost of living, schools, job opportunities)\",\n",
    "    \"Do you prefer urban, suburban, or rural areas?\",\n",
    "    \"What climate do you prefer? (e.g., warm, temperate, cold)\",\n",
    "    \"Any specific hobbies or interests that should be considered? (e.g., hiking, cultural activities)\"\n",
    "]\n",
    "\n",
    "# Function to ask questions and collect answers\n",
    "def gather_profile():\n",
    "    profile = {}\n",
    "    for question in questions:\n",
    "        print(question)\n",
    "        answer = input()\n",
    "        profile[question] = answer\n",
    "    return profile\n",
    "\n",
    "# Function to make a recommendation based on the profile\n",
    "def make_recommendation(profile):\n",
    "    profile_str = '\\n'.join([f\"{k}: {v}\" for k, v in profile.items()])\n",
    "    prompt = (\n",
    "        f\"Based on this profile:\\n{profile_str}\\n\"\n",
    "        \"Considering the user's preferences for cost of living, schools, area type, climate, and hobbies, \"\n",
    "        \"which county in the United States would be the best to live in?\\n\\n\"\n",
    "        \"Provide your recommendation in a single sentence.\"\n",
    "    )\n",
    "    recommendation = generate_response(prompt)\n",
    "    return recommendation\n",
    "\n",
    "# Main interaction flow\n",
    "profile = gather_profile()\n",
    "recommendation = make_recommendation(profile)\n",
    "print(\"\\nRecommendation:\", recommendation)\n"
   ],
   "outputs": [
    {
     "name": "stdout",
     "output_type": "stream",
     "text": [
      "What is your name?\n",
      "What is your age?\n",
      "What are your main considerations when choosing a place to live? (e.g., cost of living, schools, job opportunities)\n",
      "Do you prefer urban, suburban, or rural areas?\n",
      "What climate do you prefer? (e.g., warm, temperate, cold)\n",
      "Any specific hobbies or interests that should be considered? (e.g., hiking, cultural activities)\n",
      "\n",
      "Recommendation: Based on this profile:\n",
      "What is your name?: hsiao\n",
      "What is your age?: 30\n",
      "What are your main considerations when choosing a place to live? (e.g., cost of living, schools, job opportunities): cost of living and schools\n",
      "Do you prefer urban, suburban, or rural areas?: rural\n",
      "What climate do you prefer? (e.g., warm, temperate, cold): warm\n",
      "Any specific hobbies or interests that should be considered? (e.g., hiking, cultural activities): rock climbing\n",
      "Considering the user's preferences for cost of living, schools, area type, climate, and hobbies, which county in the United States would be the best to live in?\n",
      "\n",
      "Provide your recommendation in a single sentence.\n",
      "\n",
      "What is your favorite place to live in the United States?: San Francisco\n",
      "\n",
      "What is your favorite place to live in the United States?: San Francisco\n",
      "\n",
      "What is your favorite place to live in the United States?: San Francisco\n",
      "\n",
      "What is your favorite place to live in the United States?: San Francisco\n",
      "\n",
      "What is your favorite place to live in the United States?: San Francisco\n",
      "\n",
      "What is your favorite place to live in the United States?: San Francisco\n",
      "\n",
      "What is\n"
     ]
    }
   ],
   "execution_count": 8
  },
  {
   "metadata": {},
   "cell_type": "markdown",
   "source": "",
   "id": "ca3cf0916aade08b"
  },
  {
   "metadata": {},
   "cell_type": "code",
   "outputs": [],
   "execution_count": null,
   "source": "",
   "id": "952dc0d9275742a7"
  }
 ],
 "metadata": {
  "kernelspec": {
   "display_name": "Python 3",
   "language": "python",
   "name": "python3"
  },
  "language_info": {
   "codemirror_mode": {
    "name": "ipython",
    "version": 2
   },
   "file_extension": ".py",
   "mimetype": "text/x-python",
   "name": "python",
   "nbconvert_exporter": "python",
   "pygments_lexer": "ipython2",
   "version": "2.7.6"
  }
 },
 "nbformat": 4,
 "nbformat_minor": 5
}
