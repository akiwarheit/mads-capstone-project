{
 "cells": [
  {
   "metadata": {
    "ExecuteTime": {
     "end_time": "2024-06-07T02:33:54.993369Z",
     "start_time": "2024-06-07T02:33:54.965607Z"
    }
   },
   "cell_type": "code",
   "source": [
    "import re\n",
    "\n",
    "def preprocess_text_from_file(input_file, output_file):\n",
    "    with open(input_file, 'r', encoding='utf-8') as f_in:\n",
    "        text = f_in.read()\n",
    "        text = re.sub(r'\\s+', ' ', text)  # Remove extra whitespace\n",
    "        text = text.strip()\n",
    "    \n",
    "    with open(output_file, 'w', encoding='utf-8') as f_out:\n",
    "        f_out.write(text)\n",
    "\n",
    "input_file = \"../../data/exploration_data/processed/all_personas_text.txt\"\n",
    "processed_output_file = \"../data/exploration_data/processed/processed_personas_text.txt\"\n",
    "preprocess_text_from_file(input_file, processed_output_file)"
   ],
   "outputs": [],
   "execution_count": 1
  }
 ],
 "metadata": {
  "kernelspec": {
   "display_name": "Python 3 (ipykernel)",
   "language": "python",
   "name": "python3"
  },
  "language_info": {
   "codemirror_mode": {
    "name": "ipython",
    "version": 3
   },
   "file_extension": ".py",
   "mimetype": "text/x-python",
   "name": "python",
   "nbconvert_exporter": "python",
   "pygments_lexer": "ipython3",
   "version": "3.11.7"
  }
 },
 "nbformat": 4,
 "nbformat_minor": 4
}
