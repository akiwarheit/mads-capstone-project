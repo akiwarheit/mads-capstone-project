{
 "cells": [
  {
   "cell_type": "code",
   "metadata": {
    "ExecuteTime": {
     "end_time": "2024-08-14T20:04:30.935848Z",
     "start_time": "2024-08-14T20:04:26.077100Z"
    }
   },
   "source": [
    "from transformers import pipeline\n",
    "from transformers import GPT2Tokenizer, GPT2LMHeadModel\n",
    "\n",
    "\n",
    "model = GPT2LMHeadModel.from_pretrained(\"../../models/fine-tuned-gpt2\")\n",
    "tokenizer = GPT2Tokenizer.from_pretrained(\"../../models/fine-tuned-gpt2\")\n",
    "\n",
    "qa_pipeline = pipeline(\"text-generation\", model=model, tokenizer=tokenizer)\n",
    "\n",
    "question = \"What are the key characteristics of Group A: Power Elite?\"\n",
    "result = qa_pipeline(question, max_length=100, num_return_sequences=1)\n",
    "\n",
    "print(result)"
   ],
   "outputs": [
    {
     "name": "stderr",
     "output_type": "stream",
     "text": [
      "Hardware accelerator e.g. GPU is available in the environment, but no `device` argument is passed to the `Pipeline` object. Model will be on CPU.\n",
      "Truncation was not explicitly activated but `max_length` is provided a specific value, please use `truncation=True` to explicitly truncate examples to max length. Defaulting to 'longest_first' truncation strategy. If you encode pairs of sequences (GLUE-style) with the tokenizer you can select this strategy more precisely by providing a specific strategy to `truncation`.\n"
     ]
    },
    {
     "name": "stdout",
     "output_type": "stream",
     "text": [
      "[{'generated_text': \"What are the key characteristics of Group A: Power Elite?\\n\\nThis was a subject which, unlike some others, was not covered in the previous blog. We want each case to have a different concept of Power Elite. First, in Power Elite's case it was a group of 10 Power Elite who each possessed the most power of the power group.\\n\\nHow do we deal with the Power Elite that we consider Group A and group B?\\n\\nFrom the way the above described case was\"}]\n"
     ]
    }
   ],
   "execution_count": 1
  },
  {
   "cell_type": "code",
   "metadata": {
    "ExecuteTime": {
     "end_time": "2024-08-14T20:04:34.841Z",
     "start_time": "2024-08-14T20:04:32.936640Z"
    }
   },
   "source": [
    "question = \"What are the key characteristics of Group B?\"\n",
    "result = qa_pipeline(question, max_length=100, num_return_sequences=1)\n",
    "\n",
    "print(result)"
   ],
   "outputs": [
    {
     "name": "stdout",
     "output_type": "stream",
     "text": [
      "[{'generated_text': 'What are the key characteristics of Group B? Where do they come from?\"\\n\\nMr. McLean asked me to name names for each group, for each region. I said \\'Grapes of Wrath\\', after that. \"The same goes for every character.\"\\n\\nThe last time I was there, I was asked if we were going to be in the story of Lord of the Rings. The same was true for most of the dialogue. The first person I knew of called out,'}]\n"
     ]
    }
   ],
   "execution_count": 2
  },
  {
   "cell_type": "code",
   "metadata": {
    "ExecuteTime": {
     "end_time": "2024-08-14T20:04:37.050246Z",
     "start_time": "2024-08-14T20:04:36.506201Z"
    }
   },
   "source": [
    "question = \"Which group comprises of young families starting out?\"\n",
    "result = qa_pipeline(question, max_length=100, num_return_sequences=1)\n",
    "\n",
    "print(result)"
   ],
   "outputs": [
    {
     "name": "stdout",
     "output_type": "stream",
     "text": [
      "[{'generated_text': 'Which group comprises of young families starting out? Are that not children as well?\\n\\nThe study was conducted in Singapore.\\n\\nSource: Singapore Times'}]\n"
     ]
    }
   ],
   "execution_count": 3
  },
  {
   "metadata": {},
   "cell_type": "code",
   "outputs": [],
   "execution_count": null,
   "source": ""
  }
 ],
 "metadata": {
  "kernelspec": {
   "display_name": "Python 3 (ipykernel)",
   "language": "python",
   "name": "python3"
  },
  "language_info": {
   "codemirror_mode": {
    "name": "ipython",
    "version": 3
   },
   "file_extension": ".py",
   "mimetype": "text/x-python",
   "name": "python",
   "nbconvert_exporter": "python",
   "pygments_lexer": "ipython3",
   "version": "3.11.7"
  }
 },
 "nbformat": 4,
 "nbformat_minor": 4
}
