{
 "cells": [
  {
   "metadata": {},
   "cell_type": "markdown",
   "source": "Script for downloading exploration data from where we saved it in our google drive",
   "id": "4bffe1e376bc5ec6"
  },
  {
   "metadata": {
    "ExecuteTime": {
     "end_time": "2024-08-14T20:05:43.660955Z",
     "start_time": "2024-08-14T20:05:40.476092Z"
    }
   },
   "cell_type": "code",
   "source": [
    "from pydrive2.auth import GoogleAuth\n",
    "from pydrive2.drive import GoogleDrive\n",
    "import pandas as pd\n",
    "import io\n",
    "import os\n",
    "from pprint import pprint as pp\n",
    "\n",
    "def authenticate_service_account(json_keyfile_path):\n",
    "    gauth = GoogleAuth()\n",
    "    gauth.settings['client_config_backend'] = 'service'\n",
    "    gauth.settings['service_config'] = {\n",
    "        \"client_json_file_path\": json_keyfile_path,\n",
    "        \"client_user_email\": None  # Set to None for service account\n",
    "    }\n",
    "    \n",
    "    gauth.ServiceAuth()\n",
    "    drive = GoogleDrive(gauth)\n",
    "    return drive\n",
    "\n",
    "def load_csv_files_from_folder(drive, folder_id):\n",
    "    file_list = drive.ListFile({'q': f\"'{folder_id}' in parents and mimeType='text/csv' and trashed=false\"}).GetList()\n",
    "    \n",
    "    col_to_keep = ['RegionID', 'SizeRank', 'RegionName', 'RegionType', 'StateName','2024-03-31']\n",
    "    directory = '../../data/exploration_data/processed'\n",
    "    \n",
    "    for file in file_list:\n",
    "        print(f'Loading file: {file[\"title\"]}')\n",
    "        file_content = file.GetContentString()\n",
    "        df = pd.read_csv(io.StringIO(file_content))\n",
    "        df = df[col_to_keep]\n",
    "        \n",
    "        file_path = os.path.join(directory, f'Trimmed_{file[\"title\"]}.pkl')\n",
    "        df.to_pickle(file_path)\n",
    "\n",
    "\n",
    "json_keyfile_path = '../../gdrive_key.json'  # private key not added to git\n",
    "drive = authenticate_service_account(json_keyfile_path)\n",
    "folder_id = '1GLHBoTSukbHryHSBUcoHZ848Huq9RkVE'  # not private information just our gdrive, can't be accessed without premissions\n",
    "load_csv_files_from_folder(drive, folder_id)"
   ],
   "id": "27726b45e1a38273",
   "outputs": [
    {
     "name": "stdout",
     "output_type": "stream",
     "text": [
      "Loading file: Metro_median_sale_price_all_homes_raw_monthly.csv\n",
      "Loading file: Metro_sales_count_nowcast.csv\n",
      "Loading file: Metro_mlp_raw_all_homes_monthly.csv\n",
      "Loading file: Metro_invt_raw_all_homes_monthly.csv\n"
     ]
    }
   ],
   "execution_count": 4
  },
  {
   "metadata": {},
   "cell_type": "code",
   "outputs": [],
   "execution_count": null,
   "source": "",
   "id": "ef703622287d4a6f"
  }
 ],
 "metadata": {
  "kernelspec": {
   "display_name": "Python 3 (ipykernel)",
   "language": "python",
   "name": "python3"
  },
  "language_info": {
   "codemirror_mode": {
    "name": "ipython",
    "version": 3
   },
   "file_extension": ".py",
   "mimetype": "text/x-python",
   "name": "python",
   "nbconvert_exporter": "python",
   "pygments_lexer": "ipython3",
   "version": "3.11.7"
  }
 },
 "nbformat": 4,
 "nbformat_minor": 5
}
