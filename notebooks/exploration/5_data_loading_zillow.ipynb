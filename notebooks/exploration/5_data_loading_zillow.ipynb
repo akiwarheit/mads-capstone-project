{
 "cells": [
  {
   "metadata": {},
   "cell_type": "markdown",
   "source": "Script for downloading exploration data from where we saved it in our google drive",
   "id": "4bffe1e376bc5ec6"
  },
  {
   "metadata": {},
   "cell_type": "code",
   "outputs": [],
   "execution_count": null,
   "source": [
    "from pydrive2.auth import GoogleAuth\n",
    "from pydrive2.drive import GoogleDrive\n",
    "import pandas as pd\n",
    "import io\n",
    "import os\n",
    "from pprint import pprint as pp\n",
    "\n",
    "def authenticate_service_account(json_keyfile_path):\n",
    "    gauth = GoogleAuth()\n",
    "    gauth.settings['client_config_backend'] = 'service'\n",
    "    gauth.settings['service_config'] = {\n",
    "        \"client_json_file_path\": json_keyfile_path,\n",
    "        \"client_user_email\": None  # Set to None for service account\n",
    "    }\n",
    "    \n",
    "    gauth.ServiceAuth()\n",
    "    drive = GoogleDrive(gauth)\n",
    "    return drive\n",
    "\n",
    "def load_csv_files_from_folder(drive, folder_id):\n",
    "    file_list = drive.ListFile({'q': f\"'{folder_id}' in parents and mimeType='text/csv' and trashed=false\"}).GetList()\n",
    "    \n",
    "    col_to_keep = ['RegionID', 'SizeRank', 'RegionName', 'RegionType', 'StateName','2024-03-31']\n",
    "    directory = '../data/processed'\n",
    "    \n",
    "    for file in file_list:\n",
    "        print(f'Loading file: {file[\"title\"]}')\n",
    "        file_content = file.GetContentString()\n",
    "        df = pd.read_csv(io.StringIO(file_content))\n",
    "        df = df[col_to_keep]\n",
    "        \n",
    "        file_path = os.path.join(directory, f'Trimmed_{file[\"title\"]}.pkl')\n",
    "        df.to_pickle(file_path)\n",
    "\n",
    "\n",
    "json_keyfile_path = '../gdrive_key.json'  # private key not added to git\n",
    "drive = authenticate_service_account(json_keyfile_path)\n",
    "folder_id = '1GLHBoTSukbHryHSBUcoHZ848Huq9RkVE'  # not private information just our gdrive, can't be accessed without premissions\n",
    "load_csv_files_from_folder(drive, folder_id)"
   ],
   "id": "27726b45e1a38273"
  }
 ],
 "metadata": {
  "kernelspec": {
   "display_name": "Python 3 (ipykernel)",
   "language": "python",
   "name": "python3"
  },
  "language_info": {
   "codemirror_mode": {
    "name": "ipython",
    "version": 3
   },
   "file_extension": ".py",
   "mimetype": "text/x-python",
   "name": "python",
   "nbconvert_exporter": "python",
   "pygments_lexer": "ipython3",
   "version": "3.11.7"
  }
 },
 "nbformat": 4,
 "nbformat_minor": 5
}
