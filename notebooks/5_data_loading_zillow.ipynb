{
 "cells": [
  {
   "cell_type": "code",
   "id": "400ae6ae-e94c-447c-a42c-261d61fd1045",
   "metadata": {
    "ExecuteTime": {
     "end_time": "2024-07-07T22:23:59.052105Z",
     "start_time": "2024-07-07T22:23:53.458964Z"
    }
   },
   "source": [
    "from pydrive2.auth import GoogleAuth\n",
    "from pydrive2.drive import GoogleDrive\n",
    "import pandas as pd\n",
    "import io\n",
    "import os\n",
    "from pprint import pprint as pp\n",
    "\n",
    "def authenticate_service_account(json_keyfile_path):\n",
    "    gauth = GoogleAuth()\n",
    "    gauth.settings['client_config_backend'] = 'service'\n",
    "    gauth.settings['service_config'] = {\n",
    "        \"client_json_file_path\": json_keyfile_path,\n",
    "        \"client_user_email\": None  # Set to None for service account\n",
    "    }\n",
    "    \n",
    "    gauth.ServiceAuth()\n",
    "    drive = GoogleDrive(gauth)\n",
    "    return drive\n",
    "\n",
    "def load_csv_files_from_folder(drive, folder_id):\n",
    "    file_list = drive.ListFile({'q': f\"'{folder_id}' in parents and mimeType='text/csv' and trashed=false\"}).GetList()\n",
    "    \n",
    "    col_to_keep = ['RegionID', 'SizeRank', 'RegionName', 'RegionType', 'StateName','2024-03-31']\n",
    "    directory = '../data/processed'\n",
    "    \n",
    "    for file in file_list:\n",
    "        print(f'Loading file: {file[\"title\"]}')\n",
    "        file_content = file.GetContentString()\n",
    "        df = pd.read_csv(io.StringIO(file_content))\n",
    "        df = df[col_to_keep]\n",
    "        \n",
    "        file_path = os.path.join(directory, f'Trimmed_{file[\"title\"]}.pkl')\n",
    "        df.to_pickle(file_path)\n",
    "\n",
    "    \n",
    "\n",
    "\n",
    "json_keyfile_path = '../gdrive_key.json'  \n",
    "drive = authenticate_service_account(json_keyfile_path)\n",
    "folder_id = '1GLHBoTSukbHryHSBUcoHZ848Huq9RkVE'  \n",
    "load_csv_files_from_folder(drive, folder_id)\n",
    "\n",
    "\n",
    "\n"
   ],
   "outputs": [
    {
     "name": "stdout",
     "output_type": "stream",
     "text": [
      "Loading file: Metro_median_sale_price_all_homes_raw_monthly.csv\n",
      "Loading file: Metro_sales_count_nowcast.csv\n",
      "Loading file: Metro_mlp_raw_all_homes_monthly.csv\n",
      "Loading file: Metro_invt_raw_all_homes_monthly.csv\n"
     ]
    }
   ],
   "execution_count": 1
  },
  {
   "metadata": {
    "ExecuteTime": {
     "end_time": "2024-07-16T05:17:54.464733Z",
     "start_time": "2024-07-16T05:17:54.270456Z"
    }
   },
   "cell_type": "code",
   "source": [
    "import pandas as pd\n",
    "\n",
    "# Step 1: Read the CSV file into a DataFrame\n",
    "df = pd.read_csv('../data/social_explorer/Terrain_dataset.csv')\n",
    "\n",
    "# Step 2: Pickle the DataFrame\n",
    "df.to_pickle('terrain_dataset.pkl')\n",
    "\n",
    "# To load the pickled DataFrame later, use:\n",
    "loaded_df = pd.read_pickle('terrain_dataset.pkl')\n",
    "\n",
    "# Display the loaded DataFrame\n",
    "print(loaded_df)\n"
   ],
   "id": "3001b4acbc1ad405",
   "outputs": [
    {
     "name": "stdout",
     "output_type": "stream",
     "text": [
      "       FIPS  Year                           County     State  \\\n",
      "0     17041  2001                   Douglas County  Illinois   \n",
      "1     17045  2001                     Edgar County  Illinois   \n",
      "2     17053  2001                      Ford County  Illinois   \n",
      "3     17107  2001                     Logan County  Illinois   \n",
      "4     17123  2001                  Marshall County  Illinois   \n",
      "...     ...   ...                              ...       ...   \n",
      "9351   2230  2011             Skagway Municipality    Alaska   \n",
      "9352   2240  2011  Southeast Fairbanks Census Area    Alaska   \n",
      "9353   2275  2011        Wrangell City and Borough    Alaska   \n",
      "9354   2282  2011         Yakutat City and Borough    Alaska   \n",
      "9355   2290  2011        Yukon-Koyukuk Census Area    Alaska   \n",
      "\n",
      "      Total Area Sq Meters  % Open Water  % Perennial Ice/Snow  \\\n",
      "0             1.080605e+09      0.172487                   0.0   \n",
      "1             1.616149e+09      0.116054                   0.0   \n",
      "2             1.259366e+09      0.112557                   0.0   \n",
      "3             1.603020e+09      0.371393                   0.0   \n",
      "4             1.032155e+09      3.070353                   0.0   \n",
      "...                    ...           ...                   ...   \n",
      "9351          1.124000e+06      2.497179                   NaN   \n",
      "9352          6.431200e+07      1.152475                   NaN   \n",
      "9353          6.620000e+06     26.480197                   NaN   \n",
      "9354          1.974300e+07     16.797601                   NaN   \n",
      "9355          3.770400e+08      1.552227                   NaN   \n",
      "\n",
      "      % Developed, Open Space  % Developed, Low Intensity  \\\n",
      "0                    3.778301                    3.661283   \n",
      "1                    4.457541                    1.945458   \n",
      "2                    3.482111                    3.140010   \n",
      "3                    3.828967                    2.918985   \n",
      "4                    3.194346                    2.613793   \n",
      "...                       ...                         ...   \n",
      "9351                      NaN                         NaN   \n",
      "9352                      NaN                         NaN   \n",
      "9353                      NaN                         NaN   \n",
      "9354                      NaN                         NaN   \n",
      "9355                      NaN                         NaN   \n",
      "\n",
      "      % Developed, Medium Intensity  ...   Farmland  Houses with lots of land  \\\n",
      "0                          0.530869  ...  88.613377                  7.439584   \n",
      "1                          0.183158  ...  84.154665                  6.402999   \n",
      "2                          0.322305  ...  92.109098                  6.622120   \n",
      "3                          0.517143  ...  88.818185                  6.747952   \n",
      "4                          0.363695  ...  77.058244                  5.808139   \n",
      "...                             ...  ...        ...                       ...   \n",
      "9351                            NaN  ...        NaN                       NaN   \n",
      "9352                            NaN  ...        NaN                       NaN   \n",
      "9353                            NaN  ...        NaN                       NaN   \n",
      "9354                            NaN  ...        NaN                       NaN   \n",
      "9355                            NaN  ...        NaN                       NaN   \n",
      "\n",
      "      Suburbia  Big city    Forests  Open fields  Wetlands  Open water  \\\n",
      "0     0.530869  0.180899   2.273727     0.114269  0.640558    0.172487   \n",
      "1     0.183158  0.055855   8.568536     0.505814  0.007796    0.116054   \n",
      "2     0.322305  0.103338   0.618097     0.051169  0.053956    0.112557   \n",
      "3     0.517143  0.125145   2.387301     0.176292  0.835704    0.371393   \n",
      "4     0.363695  0.100188  11.188318     0.369276  2.015453    3.070353   \n",
      "...        ...       ...        ...          ...       ...         ...   \n",
      "9351       NaN       NaN        NaN          NaN       NaN    2.497179   \n",
      "9352       NaN       NaN        NaN          NaN       NaN    1.152475   \n",
      "9353       NaN       NaN        NaN          NaN       NaN   26.480197   \n",
      "9354       NaN       NaN        NaN          NaN       NaN   16.797601   \n",
      "9355       NaN       NaN        NaN          NaN       NaN    1.552227   \n",
      "\n",
      "      Rock/Sand/Clay  Perennial ice/snow  \n",
      "0           0.034231                 0.0  \n",
      "1           0.005123                 0.0  \n",
      "2           0.007361                 0.0  \n",
      "3           0.020886                 0.0  \n",
      "4           0.026333                 0.0  \n",
      "...              ...                 ...  \n",
      "9351             NaN                 NaN  \n",
      "9352             NaN                 NaN  \n",
      "9353             NaN                 NaN  \n",
      "9354             NaN                 NaN  \n",
      "9355             NaN                 NaN  \n",
      "\n",
      "[9356 rows x 31 columns]\n"
     ]
    }
   ],
   "execution_count": 2
  },
  {
   "metadata": {},
   "cell_type": "code",
   "outputs": [],
   "execution_count": null,
   "source": "",
   "id": "b18e68a42a1eb16a"
  }
 ],
 "metadata": {
  "kernelspec": {
   "display_name": "Python 3 (ipykernel)",
   "language": "python",
   "name": "python3"
  },
  "language_info": {
   "codemirror_mode": {
    "name": "ipython",
    "version": 3
   },
   "file_extension": ".py",
   "mimetype": "text/x-python",
   "name": "python",
   "nbconvert_exporter": "python",
   "pygments_lexer": "ipython3",
   "version": "3.11.7"
  }
 },
 "nbformat": 4,
 "nbformat_minor": 5
}
