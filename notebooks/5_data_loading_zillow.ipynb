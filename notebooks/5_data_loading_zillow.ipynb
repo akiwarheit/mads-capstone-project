{
 "cells": [
  {
   "cell_type": "code",
   "id": "400ae6ae-e94c-447c-a42c-261d61fd1045",
   "metadata": {
    "ExecuteTime": {
     "end_time": "2024-06-10T18:21:00.773406Z",
     "start_time": "2024-06-10T18:20:56.919965Z"
    }
   },
   "source": [
    "from pydrive2.auth import GoogleAuth\n",
    "from pydrive2.drive import GoogleDrive\n",
    "import pandas as pd\n",
    "import io\n",
    "from pprint import pprint as pp\n",
    "\n",
    "def authenticate_service_account(json_keyfile_path):\n",
    "    gauth = GoogleAuth()\n",
    "    gauth.settings['client_config_backend'] = 'service'\n",
    "    gauth.settings['service_config'] = {\n",
    "        \"client_json_file_path\": json_keyfile_path,\n",
    "        \"client_user_email\": None  # Set to None for service account\n",
    "    }\n",
    "    \n",
    "    gauth.ServiceAuth()\n",
    "    drive = GoogleDrive(gauth)\n",
    "    return drive\n",
    "\n",
    "def load_csv_files_from_folder(drive, folder_id):\n",
    "    file_list = drive.ListFile({'q': f\"'{folder_id}' in parents and mimeType='text/csv' and trashed=false\"}).GetList()\n",
    "    \n",
    "    col_to_keep = ['RegionID', 'SizeRank', 'RegionName', 'RegionType', 'StateName','2024-03-31']\n",
    "    directory = '../data/processed'\n",
    "    \n",
    "    for file in file_list:\n",
    "        print(f'Loading file: {file[\"title\"]}')\n",
    "        file_content = file.GetContentString()\n",
    "        df = pd.read_csv(io.StringIO(file_content))\n",
    "        df = df[col_to_keep]\n",
    "        \n",
    "        file_path = os.path.join(directory, f'Trimmed_{file[\"title\"]}.pkl')\n",
    "        df.to_pickle(file_path)\n",
    "\n",
    "    \n",
    "\n",
    "\n",
    "json_keyfile_path = '../gdrive_key.json'  \n",
    "drive = authenticate_service_account(json_keyfile_path)\n",
    "folder_id = '1GLHBoTSukbHryHSBUcoHZ848Huq9RkVE'  \n",
    "load_csv_files_from_folder(drive, folder_id)\n",
    "\n",
    "\n",
    "\n"
   ],
   "outputs": [
    {
     "name": "stdout",
     "output_type": "stream",
     "text": [
      "Loading file: Metro_median_sale_price_all_homes_raw_monthly.csv\n",
      "Loading file: Metro_sales_count_nowcast.csv\n",
      "Loading file: Metro_mlp_raw_all_homes_monthly.csv\n",
      "Loading file: Metro_invt_raw_all_homes_monthly.csv\n"
     ]
    }
   ],
   "execution_count": 32
  },
  {
   "metadata": {},
   "cell_type": "code",
   "outputs": [],
   "execution_count": null,
   "source": "",
   "id": "3001b4acbc1ad405"
  }
 ],
 "metadata": {
  "kernelspec": {
   "display_name": "Python 3 (ipykernel)",
   "language": "python",
   "name": "python3"
  },
  "language_info": {
   "codemirror_mode": {
    "name": "ipython",
    "version": 3
   },
   "file_extension": ".py",
   "mimetype": "text/x-python",
   "name": "python",
   "nbconvert_exporter": "python",
   "pygments_lexer": "ipython3",
   "version": "3.11.7"
  }
 },
 "nbformat": 4,
 "nbformat_minor": 5
}
