{
 "cells": [
  {
   "cell_type": "markdown",
   "id": "7b6b58839acc4a1a",
   "metadata": {},
   "source": []
  },
  {
   "cell_type": "code",
   "id": "initial_id",
   "metadata": {
    "ExecuteTime": {
     "end_time": "2024-08-06T20:11:46.000798Z",
     "start_time": "2024-08-06T20:11:45.227319Z"
    }
   },
   "source": [
    "import pandas as pd\n",
    "\n",
    "# school_df = pd.read_csv('../data/social_explorer_raw/School_Digger_2018.csv')\n",
    "# school_df = school_df.drop(index=0)\n",
    "# school_df = school_df.reset_index(drop=True)\n",
    "# school_df = school_df[['FIPS', 'Qualifying Name', 'State', 'LEA', 'SchoolDigger Rank Elementary', 'SchoolDigger Rank High', 'SchoolDigger Rank Middle']]\n",
    "# school_df = school_df.dropna()\n",
    "# school_df = school_df.reset_index()\n",
    "# \n",
    "# \n",
    "# # school_df['SchoolDigger Rank Elementary'] = school_df['SchoolDigger Rank Elementary'].astype('float').round(2)\n",
    "# # school_df['SchoolDigger Rank Middle'] = school_df['SchoolDigger Rank Middle'].astype('float').round(2)\n",
    "# # school_df['SchoolDigger Rank High'] = school_df['SchoolDigger Rank High'].astype('float').round(2)\n",
    "# # \n",
    "# # school_df.to_pickle('../data/social_explorer/school_df.pkl')\n",
    "# # # TODO school qualifying name is not always a county but instead school districts so it does not match up clean with other data, need to clean before using\n",
    "# # \n",
    "# # distinct_fips = school_df['FIPS'].nunique()\n",
    "# # print(distinct_fips)\n",
    "# # filtered_df = school_df[school_df['Qualifying Name'].str.contains('')]\n",
    "# filtered_df = school_df.loc[school_df['State'] == \"01\"]\n",
    "# school_df.head(100)"
   ],
   "outputs": [],
   "execution_count": 1
  },
  {
   "cell_type": "code",
   "id": "22c651fa5874396f",
   "metadata": {
    "ExecuteTime": {
     "end_time": "2024-08-04T17:18:32.391769Z",
     "start_time": "2024-08-04T17:18:32.361202Z"
    }
   },
   "source": [
    "crime_df = pd.read_csv('../data/social_explorer_raw/crime.csv')\n",
    "crime_df = crime_df.drop(index=0)\n",
    "crime_df = crime_df.dropna()\n",
    "crime_df = crime_df.reset_index(drop=True)\n",
    "\n",
    "crime_df['Total Violent and Property Crimes '] = crime_df['Total Violent and Property Crimes '].astype('float')\n",
    "crime_df['Total Population (2014 est.)'] = crime_df['Total Population (2014 est.)'].astype('float')\n",
    "crime_df['Total Violent and Property Crimes'+' %'] = (crime_df['Total Violent and Property Crimes '] / crime_df['Total Population (2014 est.)']) * 100\n",
    "\n",
    "\n",
    "# crime_df = crime_df[['Qualifying Name', 'Total Violent and Property Crimes %']].round(2)\n",
    "crime_df = crime_df[['FIPS', 'Qualifying Name','Total Violent and Property Crimes %']].round(2)\n",
    "crime_df.to_pickle('../data/social_explorer/crime_df.pkl')\n",
    "crime_df.head(100)"
   ],
   "outputs": [
    {
     "data": {
      "text/plain": [
       "     FIPS           Qualifying Name  Total Violent and Property Crimes %\n",
       "0   01001   Autauga County, Alabama                                 3.19\n",
       "1   01003   Baldwin County, Alabama                                 2.22\n",
       "2   01005   Barbour County, Alabama                                 2.82\n",
       "3   01007      Bibb County, Alabama                                 1.11\n",
       "4   01009    Blount County, Alabama                                 2.42\n",
       "..    ...                       ...                                  ...\n",
       "95  04011  Greenlee County, Arizona                                 2.00\n",
       "96  04012    La Paz County, Arizona                                 2.86\n",
       "97  04013  Maricopa County, Arizona                                 3.44\n",
       "98  04015    Mohave County, Arizona                                 3.32\n",
       "99  04017    Navajo County, Arizona                                 2.04\n",
       "\n",
       "[100 rows x 3 columns]"
      ],
      "text/html": [
       "<div>\n",
       "<style scoped>\n",
       "    .dataframe tbody tr th:only-of-type {\n",
       "        vertical-align: middle;\n",
       "    }\n",
       "\n",
       "    .dataframe tbody tr th {\n",
       "        vertical-align: top;\n",
       "    }\n",
       "\n",
       "    .dataframe thead th {\n",
       "        text-align: right;\n",
       "    }\n",
       "</style>\n",
       "<table border=\"1\" class=\"dataframe\">\n",
       "  <thead>\n",
       "    <tr style=\"text-align: right;\">\n",
       "      <th></th>\n",
       "      <th>FIPS</th>\n",
       "      <th>Qualifying Name</th>\n",
       "      <th>Total Violent and Property Crimes %</th>\n",
       "    </tr>\n",
       "  </thead>\n",
       "  <tbody>\n",
       "    <tr>\n",
       "      <th>0</th>\n",
       "      <td>01001</td>\n",
       "      <td>Autauga County, Alabama</td>\n",
       "      <td>3.19</td>\n",
       "    </tr>\n",
       "    <tr>\n",
       "      <th>1</th>\n",
       "      <td>01003</td>\n",
       "      <td>Baldwin County, Alabama</td>\n",
       "      <td>2.22</td>\n",
       "    </tr>\n",
       "    <tr>\n",
       "      <th>2</th>\n",
       "      <td>01005</td>\n",
       "      <td>Barbour County, Alabama</td>\n",
       "      <td>2.82</td>\n",
       "    </tr>\n",
       "    <tr>\n",
       "      <th>3</th>\n",
       "      <td>01007</td>\n",
       "      <td>Bibb County, Alabama</td>\n",
       "      <td>1.11</td>\n",
       "    </tr>\n",
       "    <tr>\n",
       "      <th>4</th>\n",
       "      <td>01009</td>\n",
       "      <td>Blount County, Alabama</td>\n",
       "      <td>2.42</td>\n",
       "    </tr>\n",
       "    <tr>\n",
       "      <th>...</th>\n",
       "      <td>...</td>\n",
       "      <td>...</td>\n",
       "      <td>...</td>\n",
       "    </tr>\n",
       "    <tr>\n",
       "      <th>95</th>\n",
       "      <td>04011</td>\n",
       "      <td>Greenlee County, Arizona</td>\n",
       "      <td>2.00</td>\n",
       "    </tr>\n",
       "    <tr>\n",
       "      <th>96</th>\n",
       "      <td>04012</td>\n",
       "      <td>La Paz County, Arizona</td>\n",
       "      <td>2.86</td>\n",
       "    </tr>\n",
       "    <tr>\n",
       "      <th>97</th>\n",
       "      <td>04013</td>\n",
       "      <td>Maricopa County, Arizona</td>\n",
       "      <td>3.44</td>\n",
       "    </tr>\n",
       "    <tr>\n",
       "      <th>98</th>\n",
       "      <td>04015</td>\n",
       "      <td>Mohave County, Arizona</td>\n",
       "      <td>3.32</td>\n",
       "    </tr>\n",
       "    <tr>\n",
       "      <th>99</th>\n",
       "      <td>04017</td>\n",
       "      <td>Navajo County, Arizona</td>\n",
       "      <td>2.04</td>\n",
       "    </tr>\n",
       "  </tbody>\n",
       "</table>\n",
       "<p>100 rows × 3 columns</p>\n",
       "</div>"
      ]
     },
     "execution_count": 50,
     "metadata": {},
     "output_type": "execute_result"
    }
   ],
   "execution_count": 50
  },
  {
   "cell_type": "markdown",
   "id": "f3484babaf05ef0d",
   "metadata": {},
   "source": [
    "Demographic data:\n",
    "We shrink the demographic dataset to focus on population number of each ethnic group of the latest year(year 2020). We do not care about historical data as we are not interested in analyzing trends. Therefore we omit cols such as 2010 total population and ethic population of ethnic group in 2010."
   ]
  },
  {
   "cell_type": "code",
   "id": "e673b7bc31eb2c6a",
   "metadata": {
    "ExecuteTime": {
     "end_time": "2024-08-04T16:47:25.757339Z",
     "start_time": "2024-08-04T16:47:25.645032Z"
    }
   },
   "source": [
    "demographic_df = pd.read_csv('../data/social_explorer_raw/Census2020_PL94_Redistricting_Data.csv')\n",
    "demographic_df = demographic_df.drop(index=0)\n",
    "demographic_df = demographic_df.reset_index(drop=True)\n",
    "\n",
    "demographic_col_to_keep = ['FIPS', 'Qualifying Name','2020 Total Population','2020 Population Density', '2020 Housing Units',\n",
    "       '2020 Occupied Units', '2020 Vacant Units',\n",
    "       'White 2020', 'African American or Black 2020',\n",
    "       'American Indian and Alaska Native 2020', 'Asian 2020',\n",
    "       'Native Hawaiian and Other Pacific Islander 2020', 'Other 2020',\n",
    "       'Two or More Races 2020',\n",
    "       'Non-Hispanic 2020', 'Hispanic 2020']\n",
    "demographic_df_filtered = demographic_df[demographic_col_to_keep]\n",
    "\n",
    "columns_to_convert = [\n",
    "       'White 2020', 'African American or Black 2020',\n",
    "       'American Indian and Alaska Native 2020', 'Asian 2020',\n",
    "       'Native Hawaiian and Other Pacific Islander 2020',\n",
    "       'Other 2020', 'Two or More Races 2020',\n",
    "       'Non-Hispanic 2020', 'Hispanic 2020'\n",
    "]\n",
    "\n",
    "demographic_df_filtered = demographic_df_filtered.dropna()\n",
    "demographic_df_filtered['2020 Total Population'] = demographic_df_filtered['2020 Total Population'].astype('float')\n",
    "\n",
    "for col in columns_to_convert:\n",
    "    demographic_df_filtered[col] = demographic_df_filtered[col].astype('float')\n",
    "    demographic_df_filtered[col+' %'] = (demographic_df_filtered[col] / demographic_df_filtered['2020 Total Population']) * 100\n",
    "\n",
    "demographic_col_to_keep = ['FIPS','Qualifying Name','2020 Total Population','2020 Population Density',\n",
    "       'White 2020 %', 'African American or Black 2020 %',\n",
    "       'American Indian and Alaska Native 2020 %', 'Asian 2020 %',\n",
    "       'Native Hawaiian and Other Pacific Islander 2020 %', 'Other 2020 %',\n",
    "       'Two or More Races 2020 %', 'Hispanic 2020 %']\n",
    "demographic_df = demographic_df_filtered[demographic_col_to_keep].round(2)\n",
    "demographic_df.to_pickle('../data/social_explorer/demographic_df.pkl')"
   ],
   "outputs": [],
   "execution_count": 39
  },
  {
   "cell_type": "markdown",
   "id": "675b10e032c00b8b",
   "metadata": {},
   "source": [
    "The latest year of housing data available on Social Explorer was year 2020. This dataset include property rental data such as fair market rent."
   ]
  },
  {
   "cell_type": "code",
   "id": "986a08acd221a650",
   "metadata": {
    "ExecuteTime": {
     "end_time": "2024-08-04T16:47:38.273877Z",
     "start_time": "2024-08-04T16:47:38.236800Z"
    }
   },
   "source": [
    "housing_df = pd.read_csv('../data/social_explorer_raw/Income_limits_and_fair_market_rent_2020.csv')\n",
    "housing_df = housing_df.drop(index=0)\n",
    "housing_df = housing_df.reset_index(drop=True)\n",
    "\n",
    "housing_col_to_keep = ['FIPS', 'Qualifying Name', 'Median Family Income (5-year ACS)', 'Fair Market Rent for One Bedroom',\n",
    "       'Fair Market Rent for Two Bedrooms',\n",
    "       'Fair Market Rent for Three Bedrooms',\n",
    "       'Fair Market Rent for Four Bedrooms']\n",
    "housing_df = housing_df[housing_col_to_keep]\n",
    "housing_df.to_pickle('../data/social_explorer/housing_df.pkl')"
   ],
   "outputs": [],
   "execution_count": 40
  },
  {
   "cell_type": "code",
   "id": "133df2fb6786493b",
   "metadata": {
    "ExecuteTime": {
     "end_time": "2024-08-04T17:06:55.878592Z",
     "start_time": "2024-08-04T17:06:55.828618Z"
    }
   },
   "source": [
    "environment_df = pd.read_csv('../data/social_explorer_raw/Environmental_summaries_2011.csv')\n",
    "environment_df = environment_df.drop(index=0)\n",
    "environment_df = environment_df.reset_index(drop=True)\n",
    "\n",
    "col_to_keep = ['FIPS', 'Qualifying Name', 'Total Area of Land Coverage', 'Area Of Land Cover Class 11, Open Water'\n",
    "       , 'Area Of Land Cover Class 12, Perennial Ice/Snow', 'Area Of Land Cover Class 21, Developed, Open Space', 'Area Of Land Cover Class 22, Developed, Low Intensity', 'Area Of Land Cover Class 23, Developed, Medium Intensity', 'Area Of Land Cover Class 24, Developed, High Intensity', 'Area Of Land Cover Class 31, Barren Land (Rock/Sand/Clay)','Area Of Land Cover Class 41, Deciduous Forest','Area Of Land Cover Class 42, Evergreen Forest','Area Of Land Cover Class 43, Mixed Forest', 'Area Of Land Cover Class 52, Shrub/Scrub', 'Area Of Land Cover Class 71, Grassland/Herbaceous', 'Area Of Land Cover Class 81, Pasture/Hay', 'Area Of Land Cover Class 82, Cultivated Crops', 'Area Of Land Cover Class 90, Woody Wetlands', 'Area Of Land Cover Class 95, Emergent Herbaceous Wetlands']\n",
    "\n",
    "environment_df = environment_df[col_to_keep]\n",
    "\n",
    "environment_df = environment_df.fillna(0)\n",
    "environment_df['Total Area of Land Coverage'] = environment_df['Total Area of Land Coverage'].astype('float')\n",
    "\n",
    "columns_to_convert = ['Area Of Land Cover Class 11, Open Water'\n",
    "       , 'Area Of Land Cover Class 12, Perennial Ice/Snow', 'Area Of Land Cover Class 21, Developed, Open Space', 'Area Of Land Cover Class 22, Developed, Low Intensity', 'Area Of Land Cover Class 23, Developed, Medium Intensity', 'Area Of Land Cover Class 24, Developed, High Intensity', 'Area Of Land Cover Class 31, Barren Land (Rock/Sand/Clay)','Area Of Land Cover Class 41, Deciduous Forest','Area Of Land Cover Class 42, Evergreen Forest','Area Of Land Cover Class 43, Mixed Forest', 'Area Of Land Cover Class 52, Shrub/Scrub', 'Area Of Land Cover Class 71, Grassland/Herbaceous', 'Area Of Land Cover Class 81, Pasture/Hay', 'Area Of Land Cover Class 82, Cultivated Crops', 'Area Of Land Cover Class 90, Woody Wetlands', 'Area Of Land Cover Class 95, Emergent Herbaceous Wetlands']\n",
    "\n",
    "for col in columns_to_convert:\n",
    "    environment_df[col] = environment_df[col].astype('float')\n",
    "    environment_df[col+' %'] = (environment_df[col] / environment_df['Total Area of Land Coverage']) * 100\n",
    "\n",
    "col_to_keep = ['FIPS', 'Qualifying Name', 'Total Area of Land Coverage', 'Area Of Land Cover Class 11, Open Water %'\n",
    "       , 'Area Of Land Cover Class 12, Perennial Ice/Snow %', 'Area Of Land Cover Class 21, Developed, Open Space %', 'Area Of Land Cover Class 22, Developed, Low Intensity %', 'Area Of Land Cover Class 23, Developed, Medium Intensity %', 'Area Of Land Cover Class 24, Developed, High Intensity %', 'Area Of Land Cover Class 31, Barren Land (Rock/Sand/Clay) %','Area Of Land Cover Class 41, Deciduous Forest %','Area Of Land Cover Class 42, Evergreen Forest %','Area Of Land Cover Class 43, Mixed Forest %', 'Area Of Land Cover Class 52, Shrub/Scrub %', 'Area Of Land Cover Class 71, Grassland/Herbaceous %', 'Area Of Land Cover Class 81, Pasture/Hay %', 'Area Of Land Cover Class 82, Cultivated Crops %', 'Area Of Land Cover Class 90, Woody Wetlands %', 'Area Of Land Cover Class 95, Emergent Herbaceous Wetlands %']    \n",
    "\n",
    "environment_df = environment_df[col_to_keep].round(2)\n",
    "\n",
    "shortened_columns = {\n",
    "    'Total Area of Land Coverage': 'Total Area',\n",
    "    'Area Of Land Cover Class 11, Open Water %': 'Open Water %',\n",
    "    'Area Of Land Cover Class 12, Perennial Ice/Snow %': 'Ice/Snow %',\n",
    "    'Area Of Land Cover Class 21, Developed, Open Space %': 'Developed Open Space %',\n",
    "    'Area Of Land Cover Class 22, Developed, Low Intensity %': 'Developed Low Intensity %',\n",
    "    'Area Of Land Cover Class 23, Developed, Medium Intensity %': 'Developed Medium Intensity %',\n",
    "    'Area Of Land Cover Class 24, Developed, High Intensity %': 'Developed High Intensity %',\n",
    "    'Area Of Land Cover Class 31, Barren Land (Rock/Sand/Clay) %': 'Barren Land %',\n",
    "    'Area Of Land Cover Class 41, Deciduous Forest %': 'Deciduous Forest %',\n",
    "    'Area Of Land Cover Class 42, Evergreen Forest %': 'Evergreen Forest %',\n",
    "    'Area Of Land Cover Class 43, Mixed Forest %': 'Mixed Forest %',\n",
    "    'Area Of Land Cover Class 52, Shrub/Scrub %': 'Shrub/Scrub %',\n",
    "    'Area Of Land Cover Class 71, Grassland/Herbaceous %': 'Grassland/Herbaceous %',\n",
    "    'Area Of Land Cover Class 81, Pasture/Hay %': 'Pasture/Hay %',\n",
    "    'Area Of Land Cover Class 82, Cultivated Crops %': 'Cultivated Crops %',\n",
    "    'Area Of Land Cover Class 90, Woody Wetlands %': 'Woody Wetlands %',\n",
    "    'Area Of Land Cover Class 95, Emergent Herbaceous Wetlands %': 'Emergent Herbaceous Wetlands %'\n",
    "}\n",
    "\n",
    "environment_df.rename(columns=shortened_columns, inplace=True)\n",
    "environment_df = environment_df.fillna(0)\n",
    "environment_df.to_pickle('../data/social_explorer/environment_df.pkl')"
   ],
   "outputs": [
    {
     "name": "stdout",
     "output_type": "stream",
     "text": [
      "0\n"
     ]
    }
   ],
   "execution_count": 44
  },
  {
   "metadata": {},
   "cell_type": "code",
   "outputs": [],
   "execution_count": null,
   "source": "",
   "id": "95db6a615a8c7342"
  }
 ],
 "metadata": {
  "kernelspec": {
   "display_name": "Python 3",
   "language": "python",
   "name": "python3"
  },
  "language_info": {
   "codemirror_mode": {
    "name": "ipython",
    "version": 3
   },
   "file_extension": ".py",
   "mimetype": "text/x-python",
   "name": "python",
   "nbconvert_exporter": "python",
   "pygments_lexer": "ipython3",
   "version": "3.10.12"
  }
 },
 "nbformat": 4,
 "nbformat_minor": 5
}
