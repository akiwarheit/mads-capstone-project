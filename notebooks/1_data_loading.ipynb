{
 "cells": [
  {
   "cell_type": "code",
   "execution_count": 7,
   "metadata": {},
   "outputs": [],
   "source": [
    "import os\n",
    "import fitz  # PyMuPDF\n",
    "\n",
    "def extract_text_from_pdfs(directories, output_file):\n",
    "    with open(output_file, 'w', encoding='utf-8') as f_out:\n",
    "        for directory in directories:\n",
    "            for filename in os.listdir(directory):\n",
    "                if filename.endswith(\".pdf\"):\n",
    "                    pdf_path = os.path.join(directory, filename)\n",
    "                    with fitz.open(pdf_path) as pdf:\n",
    "                        text = \"\"\n",
    "                        for page_num in range(len(pdf)):\n",
    "                            page = pdf.load_page(page_num)\n",
    "                            text += page.get_text()\n",
    "                        f_out.write(text + \"\\n\")  # Write extracted text to the file\n",
    "\n",
    "directories = [\"../data/personas\", \"../data/persona-subgroups\"]\n",
    "output_file = \"../data/processed/all_personas_text.txt\"\n",
    "extract_text_from_pdfs(directories, output_file)"
   ]
  }
 ],
 "metadata": {
  "kernelspec": {
   "display_name": "Python 3",
   "language": "python",
   "name": "python3"
  },
  "language_info": {
   "codemirror_mode": {
    "name": "ipython",
    "version": 3
   },
   "file_extension": ".py",
   "mimetype": "text/x-python",
   "name": "python",
   "nbconvert_exporter": "python",
   "pygments_lexer": "ipython3",
   "version": "3.11.9"
  }
 },
 "nbformat": 4,
 "nbformat_minor": 2
}
