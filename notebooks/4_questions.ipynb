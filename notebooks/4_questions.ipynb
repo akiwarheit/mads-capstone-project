{
 "cells": [
  {
   "cell_type": "code",
   "execution_count": 7,
   "metadata": {},
   "outputs": [
    {
     "name": "stderr",
     "output_type": "stream",
     "text": [
      "Truncation was not explicitly activated but `max_length` is provided a specific value, please use `truncation=True` to explicitly truncate examples to max length. Defaulting to 'longest_first' truncation strategy. If you encode pairs of sequences (GLUE-style) with the tokenizer you can select this strategy more precisely by providing a specific strategy to `truncation`.\n"
     ]
    },
    {
     "name": "stdout",
     "output_type": "stream",
     "text": [
      "[{'generated_text': 'What are the key characteristics of Group A: Power Elite? They describe themselves as “geared to succeed” and this group is no exception. As the most technologically savvy segment in the country, Power Elite are traditionalists in their views and'}]\n"
     ]
    }
   ],
   "source": [
    "from transformers import pipeline\n",
    "from transformers import GPT2Tokenizer, GPT2LMHeadModel\n",
    "\n",
    "\n",
    "model = GPT2LMHeadModel.from_pretrained(\"../models/fine-tuned-gpt2\")\n",
    "tokenizer = GPT2Tokenizer.from_pretrained(\"../models/fine-tuned-gpt2\")\n",
    "\n",
    "qa_pipeline = pipeline(\"text-generation\", model=model, tokenizer=tokenizer)\n",
    "\n",
    "question = \"What are the key characteristics of Group A: Power Elite?\"\n",
    "result = qa_pipeline(question, max_length=100, num_return_sequences=1)\n",
    "\n",
    "print(result)"
   ]
  },
  {
   "cell_type": "code",
   "execution_count": 9,
   "metadata": {},
   "outputs": [
    {
     "name": "stdout",
     "output_type": "stream",
     "text": [
      "[{'generated_text': 'What are the key characteristics of Group B? Overview Modest Retirees comprised of unmarried singles and single-parents living in modest neighborhoods located in urban areas of the Midwest and South, West and Southern California. Approximately 30 percent were married within five years, though nearly half have lived at the same address for fewer than five years. Many are single and living off of accumulated savings from home equity investments. Incentives of ownership stretch from a mid-sized blue-collar job as transportation system tech workers to'}]\n"
     ]
    }
   ],
   "source": [
    "question = \"What are the key characteristics of Group B?\"\n",
    "result = qa_pipeline(question, max_length=100, num_return_sequences=1)\n",
    "\n",
    "print(result)"
   ]
  },
  {
   "cell_type": "code",
   "execution_count": 12,
   "metadata": {},
   "outputs": [
    {
     "name": "stdout",
     "output_type": "stream",
     "text": [
      "[{'generated_text': 'Which group comprises of young families starting out? Hardly. The household heads on retirement and only a few remaining are married by then–they’re either retired or planning to retire this generation. Despite the lack of money to buy baby boomer-aged cars and SUVs, the kids are eager to get their grandchildren to the garden and aquarium; and they tune their radios on their cell phones for plays, movies and game shows. Their families tend to make time for Bible-centric dramas—'}]\n"
     ]
    }
   ],
   "source": [
    "question = \"Which group comprises of young families starting out?\"\n",
    "result = qa_pipeline(question, max_length=100, num_return_sequences=1)\n",
    "\n",
    "print(result)"
   ]
  }
 ],
 "metadata": {
  "kernelspec": {
   "display_name": ".venv",
   "language": "python",
   "name": "python3"
  },
  "language_info": {
   "codemirror_mode": {
    "name": "ipython",
    "version": 3
   },
   "file_extension": ".py",
   "mimetype": "text/x-python",
   "name": "python",
   "nbconvert_exporter": "python",
   "pygments_lexer": "ipython3",
   "version": "3.11.9"
  }
 },
 "nbformat": 4,
 "nbformat_minor": 2
}
